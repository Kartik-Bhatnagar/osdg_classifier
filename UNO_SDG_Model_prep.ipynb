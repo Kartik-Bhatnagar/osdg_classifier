{
  "nbformat": 4,
  "nbformat_minor": 0,
  "metadata": {
    "kernelspec": {
      "language": "python",
      "display_name": "Python 3",
      "name": "python3"
    },
    "language_info": {
      "pygments_lexer": "ipython3",
      "nbconvert_exporter": "python",
      "version": "3.6.4",
      "file_extension": ".py",
      "codemirror_mode": {
        "name": "ipython",
        "version": 3
      },
      "name": "python",
      "mimetype": "text/x-python"
    },
    "colab": {
      "name": "UNO-SDG-Model_prep.ipynb",
      "provenance": []
    }
  },
  "cells": [
    {
      "cell_type": "markdown",
      "metadata": {
        "id": "_e1hs0fjYvfX"
      },
      "source": [
        "### Importing "
      ]
    },
    {
      "cell_type": "code",
      "metadata": {
        "_uuid": "8f2839f25d086af736a60e9eeb907d3b93b6e0e5",
        "_cell_guid": "b1076dfc-b9ad-4769-8c92-a6c4dae69d19",
        "execution": {
          "iopub.status.busy": "2021-11-26T15:58:48.763868Z",
          "iopub.execute_input": "2021-11-26T15:58:48.764667Z",
          "iopub.status.idle": "2021-11-26T15:58:49.227045Z",
          "shell.execute_reply.started": "2021-11-26T15:58:48.764569Z",
          "shell.execute_reply": "2021-11-26T15:58:49.225972Z"
        },
        "trusted": true,
        "id": "TRL_kTMKWdoz"
      },
      "source": [
        "\n",
        "import numpy as np \n",
        "import pandas as pd \n",
        "import matplotlib.pyplot as plt"
      ],
      "execution_count": 1,
      "outputs": []
    },
    {
      "cell_type": "markdown",
      "metadata": {
        "id": "SA_YlUO2Y0fj"
      },
      "source": [
        "### Downlading the Training Data"
      ]
    },
    {
      "cell_type": "markdown",
      "metadata": {
        "id": "s-z3N8UPWzN9"
      },
      "source": [
        "Downloading the data from here\n",
        "\n",
        "'https://zenodo.org/record/5550238/files/osdg-community-dataset-v21-09-30.csv?download=1 (24.8 MB)\n",
        "\n",
        " "
      ]
    },
    {
      "cell_type": "code",
      "metadata": {
        "execution": {
          "iopub.status.busy": "2021-11-26T15:58:49.234703Z",
          "iopub.execute_input": "2021-11-26T15:58:49.234974Z",
          "iopub.status.idle": "2021-11-26T15:58:49.833658Z",
          "shell.execute_reply.started": "2021-11-26T15:58:49.234942Z",
          "shell.execute_reply": "2021-11-26T15:58:49.832744Z"
        },
        "trusted": true,
        "id": "n_J3psOgWdpA"
      },
      "source": [
        "df = pd.read_csv('https://zenodo.org/record/5550238/files/osdg-community-dataset-v21-09-30.csv?download=1')"
      ],
      "execution_count": 2,
      "outputs": []
    },
    {
      "cell_type": "code",
      "metadata": {
        "execution": {
          "iopub.status.busy": "2021-11-26T15:58:49.836278Z",
          "iopub.execute_input": "2021-11-26T15:58:49.837075Z",
          "iopub.status.idle": "2021-11-26T15:58:49.862947Z",
          "shell.execute_reply.started": "2021-11-26T15:58:49.837028Z",
          "shell.execute_reply": "2021-11-26T15:58:49.862071Z"
        },
        "trusted": true,
        "colab": {
          "base_uri": "https://localhost:8080/",
          "height": 381
        },
        "id": "iXfxm_R-WdpB",
        "outputId": "aa9d85bb-6e1a-49f1-e2cd-793663a5648c"
      },
      "source": [
        "print(df.shape)\n",
        "df.head(10)"
      ],
      "execution_count": 6,
      "outputs": [
        {
          "output_type": "stream",
          "name": "stdout",
          "text": [
            "(32121, 7)\n"
          ]
        },
        {
          "output_type": "execute_result",
          "data": {
            "text/html": [
              "<div>\n",
              "<style scoped>\n",
              "    .dataframe tbody tr th:only-of-type {\n",
              "        vertical-align: middle;\n",
              "    }\n",
              "\n",
              "    .dataframe tbody tr th {\n",
              "        vertical-align: top;\n",
              "    }\n",
              "\n",
              "    .dataframe thead th {\n",
              "        text-align: right;\n",
              "    }\n",
              "</style>\n",
              "<table border=\"1\" class=\"dataframe\">\n",
              "  <thead>\n",
              "    <tr style=\"text-align: right;\">\n",
              "      <th></th>\n",
              "      <th>doi</th>\n",
              "      <th>text_id</th>\n",
              "      <th>text</th>\n",
              "      <th>sdg</th>\n",
              "      <th>labels_negative</th>\n",
              "      <th>labels_positive</th>\n",
              "      <th>agreement</th>\n",
              "    </tr>\n",
              "  </thead>\n",
              "  <tbody>\n",
              "    <tr>\n",
              "      <th>0</th>\n",
              "      <td>10.6027/9789289342698-7-en</td>\n",
              "      <td>00021941702cd84171ff33962197ca1f</td>\n",
              "      <td>From a gender perspective, Paulgaard points ou...</td>\n",
              "      <td>5</td>\n",
              "      <td>1</td>\n",
              "      <td>7</td>\n",
              "      <td>0.750000</td>\n",
              "    </tr>\n",
              "    <tr>\n",
              "      <th>1</th>\n",
              "      <td>10.18356/eca72908-en</td>\n",
              "      <td>00028349a7f9b2485ff344ae44ccfd6b</td>\n",
              "      <td>Labour legislation regulates maximum working h...</td>\n",
              "      <td>11</td>\n",
              "      <td>2</td>\n",
              "      <td>1</td>\n",
              "      <td>0.333333</td>\n",
              "    </tr>\n",
              "    <tr>\n",
              "      <th>2</th>\n",
              "      <td>10.1787/9789264289062-4-en</td>\n",
              "      <td>0004eb64f96e1620cd852603d9cbe4d4</td>\n",
              "      <td>The average figure also masks large difference...</td>\n",
              "      <td>3</td>\n",
              "      <td>1</td>\n",
              "      <td>6</td>\n",
              "      <td>0.714286</td>\n",
              "    </tr>\n",
              "    <tr>\n",
              "      <th>3</th>\n",
              "      <td>10.1787/5k9b7bn5qzvd-en</td>\n",
              "      <td>0006a887475ccfa5a7f5f51d4ac83d02</td>\n",
              "      <td>The extent to which they are akin to corruptio...</td>\n",
              "      <td>3</td>\n",
              "      <td>1</td>\n",
              "      <td>2</td>\n",
              "      <td>0.333333</td>\n",
              "    </tr>\n",
              "    <tr>\n",
              "      <th>4</th>\n",
              "      <td>10.1787/9789264258211-6-en</td>\n",
              "      <td>0006d6e7593776abbdf4a6f985ea6d95</td>\n",
              "      <td>A region reporting a higher rate will not earn...</td>\n",
              "      <td>3</td>\n",
              "      <td>2</td>\n",
              "      <td>2</td>\n",
              "      <td>0.000000</td>\n",
              "    </tr>\n",
              "    <tr>\n",
              "      <th>5</th>\n",
              "      <td>10.1787/5js4xfgl4ks0-en</td>\n",
              "      <td>000b54717f2deea5d99055b4c1c2bf5a</td>\n",
              "      <td>These findings are consistent with previous wo...</td>\n",
              "      <td>10</td>\n",
              "      <td>2</td>\n",
              "      <td>5</td>\n",
              "      <td>0.428571</td>\n",
              "    </tr>\n",
              "    <tr>\n",
              "      <th>6</th>\n",
              "      <td>10.1787/9789264285712-7-en</td>\n",
              "      <td>000bc99895142f9b6795ddf402e16e9a</td>\n",
              "      <td>Each section states the economic principle, re...</td>\n",
              "      <td>6</td>\n",
              "      <td>1</td>\n",
              "      <td>3</td>\n",
              "      <td>0.500000</td>\n",
              "    </tr>\n",
              "    <tr>\n",
              "      <th>7</th>\n",
              "      <td>10.1787/9789264117563-8-en</td>\n",
              "      <td>000bfb17e9f3a00d4515ab59c5c487e7</td>\n",
              "      <td>The Israel Oceanographic and Limnological Rese...</td>\n",
              "      <td>6</td>\n",
              "      <td>0</td>\n",
              "      <td>3</td>\n",
              "      <td>1.000000</td>\n",
              "    </tr>\n",
              "    <tr>\n",
              "      <th>8</th>\n",
              "      <td>10.18356/805b1ae4-en</td>\n",
              "      <td>001180f5dd9a821e651ed51e30d0cf8c</td>\n",
              "      <td>Previous chapters have discussed ways to make ...</td>\n",
              "      <td>2</td>\n",
              "      <td>0</td>\n",
              "      <td>3</td>\n",
              "      <td>1.000000</td>\n",
              "    </tr>\n",
              "    <tr>\n",
              "      <th>9</th>\n",
              "      <td>10.1787/1826beee-en</td>\n",
              "      <td>0014f8ae09b458434c107236c86c2c38</td>\n",
              "      <td>To encourage N runoff reductions by farmers, t...</td>\n",
              "      <td>6</td>\n",
              "      <td>1</td>\n",
              "      <td>2</td>\n",
              "      <td>0.333333</td>\n",
              "    </tr>\n",
              "  </tbody>\n",
              "</table>\n",
              "</div>"
            ],
            "text/plain": [
              "                          doi  ... agreement\n",
              "0  10.6027/9789289342698-7-en  ...  0.750000\n",
              "1        10.18356/eca72908-en  ...  0.333333\n",
              "2  10.1787/9789264289062-4-en  ...  0.714286\n",
              "3     10.1787/5k9b7bn5qzvd-en  ...  0.333333\n",
              "4  10.1787/9789264258211-6-en  ...  0.000000\n",
              "5     10.1787/5js4xfgl4ks0-en  ...  0.428571\n",
              "6  10.1787/9789264285712-7-en  ...  0.500000\n",
              "7  10.1787/9789264117563-8-en  ...  1.000000\n",
              "8        10.18356/805b1ae4-en  ...  1.000000\n",
              "9         10.1787/1826beee-en  ...  0.333333\n",
              "\n",
              "[10 rows x 7 columns]"
            ]
          },
          "metadata": {},
          "execution_count": 6
        }
      ]
    },
    {
      "cell_type": "markdown",
      "metadata": {
        "id": "KBoQEchrXvnM"
      },
      "source": [
        "We have around 32 K rows ; but we will use whose those data rows which have good Scores of Agreement,Labels_Positive and Labels_negative"
      ]
    },
    {
      "cell_type": "code",
      "metadata": {
        "execution": {
          "iopub.status.busy": "2021-11-26T15:58:49.86429Z",
          "iopub.execute_input": "2021-11-26T15:58:49.864972Z",
          "iopub.status.idle": "2021-11-26T15:58:49.887097Z",
          "shell.execute_reply.started": "2021-11-26T15:58:49.864929Z",
          "shell.execute_reply": "2021-11-26T15:58:49.886377Z"
        },
        "trusted": true,
        "colab": {
          "base_uri": "https://localhost:8080/"
        },
        "id": "GD-UM2bfWdpC",
        "outputId": "fc2a9e2b-5a53-4a43-df0c-4727bf8d1307"
      },
      "source": [
        "df_osdg = df.query('agreement >= .6 and labels_positive > labels_negative').copy()\n",
        "df_osdg.shape"
      ],
      "execution_count": 4,
      "outputs": [
        {
          "output_type": "execute_result",
          "data": {
            "text/plain": [
              "(17233, 7)"
            ]
          },
          "metadata": {},
          "execution_count": 4
        }
      ]
    },
    {
      "cell_type": "markdown",
      "metadata": {
        "id": "fur-EVeGYIEf"
      },
      "source": [
        "Now we are left with around 17K Rows; these data rows will be used to Train Our Model for Sustainable Development Goals Classification"
      ]
    },
    {
      "cell_type": "code",
      "metadata": {
        "execution": {
          "iopub.status.busy": "2021-11-26T15:58:50.31178Z",
          "iopub.execute_input": "2021-11-26T15:58:50.312112Z",
          "iopub.status.idle": "2021-11-26T15:58:50.326735Z",
          "shell.execute_reply.started": "2021-11-26T15:58:50.31207Z",
          "shell.execute_reply": "2021-11-26T15:58:50.325732Z"
        },
        "trusted": true,
        "colab": {
          "base_uri": "https://localhost:8080/",
          "height": 206
        },
        "id": "sejXFtPlWdpO",
        "outputId": "086310cc-c45c-4cc0-9a93-fcd9dcf339a1"
      },
      "source": [
        "df_osdg.head()"
      ],
      "execution_count": 18,
      "outputs": [
        {
          "output_type": "execute_result",
          "data": {
            "text/html": [
              "<div>\n",
              "<style scoped>\n",
              "    .dataframe tbody tr th:only-of-type {\n",
              "        vertical-align: middle;\n",
              "    }\n",
              "\n",
              "    .dataframe tbody tr th {\n",
              "        vertical-align: top;\n",
              "    }\n",
              "\n",
              "    .dataframe thead th {\n",
              "        text-align: right;\n",
              "    }\n",
              "</style>\n",
              "<table border=\"1\" class=\"dataframe\">\n",
              "  <thead>\n",
              "    <tr style=\"text-align: right;\">\n",
              "      <th></th>\n",
              "      <th>doi</th>\n",
              "      <th>text_id</th>\n",
              "      <th>text</th>\n",
              "      <th>sdg</th>\n",
              "      <th>labels_negative</th>\n",
              "      <th>labels_positive</th>\n",
              "      <th>agreement</th>\n",
              "    </tr>\n",
              "  </thead>\n",
              "  <tbody>\n",
              "    <tr>\n",
              "      <th>0</th>\n",
              "      <td>10.6027/9789289342698-7-en</td>\n",
              "      <td>00021941702cd84171ff33962197ca1f</td>\n",
              "      <td>From a gender perspective, Paulgaard points ou...</td>\n",
              "      <td>5</td>\n",
              "      <td>1</td>\n",
              "      <td>7</td>\n",
              "      <td>0.750000</td>\n",
              "    </tr>\n",
              "    <tr>\n",
              "      <th>2</th>\n",
              "      <td>10.1787/9789264289062-4-en</td>\n",
              "      <td>0004eb64f96e1620cd852603d9cbe4d4</td>\n",
              "      <td>The average figure also masks large difference...</td>\n",
              "      <td>3</td>\n",
              "      <td>1</td>\n",
              "      <td>6</td>\n",
              "      <td>0.714286</td>\n",
              "    </tr>\n",
              "    <tr>\n",
              "      <th>7</th>\n",
              "      <td>10.1787/9789264117563-8-en</td>\n",
              "      <td>000bfb17e9f3a00d4515ab59c5c487e7</td>\n",
              "      <td>The Israel Oceanographic and Limnological Rese...</td>\n",
              "      <td>6</td>\n",
              "      <td>0</td>\n",
              "      <td>3</td>\n",
              "      <td>1.000000</td>\n",
              "    </tr>\n",
              "    <tr>\n",
              "      <th>8</th>\n",
              "      <td>10.18356/805b1ae4-en</td>\n",
              "      <td>001180f5dd9a821e651ed51e30d0cf8c</td>\n",
              "      <td>Previous chapters have discussed ways to make ...</td>\n",
              "      <td>2</td>\n",
              "      <td>0</td>\n",
              "      <td>3</td>\n",
              "      <td>1.000000</td>\n",
              "    </tr>\n",
              "    <tr>\n",
              "      <th>11</th>\n",
              "      <td>10.1787/9789264310278-en</td>\n",
              "      <td>001f1aee4013cb098da17a979c38bc57</td>\n",
              "      <td>Prescription rates appear to be higher where l...</td>\n",
              "      <td>8</td>\n",
              "      <td>0</td>\n",
              "      <td>3</td>\n",
              "      <td>1.000000</td>\n",
              "    </tr>\n",
              "  </tbody>\n",
              "</table>\n",
              "</div>"
            ],
            "text/plain": [
              "                           doi  ... agreement\n",
              "0   10.6027/9789289342698-7-en  ...  0.750000\n",
              "2   10.1787/9789264289062-4-en  ...  0.714286\n",
              "7   10.1787/9789264117563-8-en  ...  1.000000\n",
              "8         10.18356/805b1ae4-en  ...  1.000000\n",
              "11    10.1787/9789264310278-en  ...  1.000000\n",
              "\n",
              "[5 rows x 7 columns]"
            ]
          },
          "metadata": {},
          "execution_count": 18
        }
      ]
    },
    {
      "cell_type": "markdown",
      "metadata": {
        "id": "qYBoLfdkWdpE"
      },
      "source": [
        "### Visualising the training data"
      ]
    },
    {
      "cell_type": "code",
      "metadata": {
        "execution": {
          "iopub.status.busy": "2021-11-26T15:58:49.895547Z",
          "iopub.execute_input": "2021-11-26T15:58:49.896365Z",
          "iopub.status.idle": "2021-11-26T15:58:49.911923Z",
          "shell.execute_reply.started": "2021-11-26T15:58:49.896321Z",
          "shell.execute_reply": "2021-11-26T15:58:49.910905Z"
        },
        "trusted": true,
        "id": "yAA873k7WdpI"
      },
      "source": [
        "counts =[]\n",
        "for i in range(1,18):\n",
        "    #print((df_osdg.sdg==i).sum())\n",
        "    counts.append((i,(df_osdg.sdg==i).sum()))\n",
        "    "
      ],
      "execution_count": 14,
      "outputs": []
    },
    {
      "cell_type": "code",
      "metadata": {
        "execution": {
          "iopub.status.busy": "2021-11-26T15:58:49.913208Z",
          "iopub.execute_input": "2021-11-26T15:58:49.91386Z",
          "iopub.status.idle": "2021-11-26T15:58:49.919868Z",
          "shell.execute_reply.started": "2021-11-26T15:58:49.913807Z",
          "shell.execute_reply": "2021-11-26T15:58:49.91899Z"
        },
        "trusted": true,
        "id": "R3t8V4CaWdpK"
      },
      "source": [
        "\n",
        "#making pandas df \n",
        "df_count = pd.DataFrame(counts,columns=['sdg','occurance'])"
      ],
      "execution_count": 15,
      "outputs": []
    },
    {
      "cell_type": "code",
      "metadata": {
        "execution": {
          "iopub.status.busy": "2021-11-26T15:58:49.92307Z",
          "iopub.execute_input": "2021-11-26T15:58:49.923326Z",
          "iopub.status.idle": "2021-11-26T15:58:49.936465Z",
          "shell.execute_reply.started": "2021-11-26T15:58:49.923298Z",
          "shell.execute_reply": "2021-11-26T15:58:49.935642Z"
        },
        "trusted": true,
        "colab": {
          "base_uri": "https://localhost:8080/",
          "height": 582
        },
        "id": "J9PBso0RWdpM",
        "outputId": "2d8d873c-5a31-498d-ae6f-b4dd54eee225"
      },
      "source": [
        "df_count"
      ],
      "execution_count": 16,
      "outputs": [
        {
          "output_type": "execute_result",
          "data": {
            "text/html": [
              "<div>\n",
              "<style scoped>\n",
              "    .dataframe tbody tr th:only-of-type {\n",
              "        vertical-align: middle;\n",
              "    }\n",
              "\n",
              "    .dataframe tbody tr th {\n",
              "        vertical-align: top;\n",
              "    }\n",
              "\n",
              "    .dataframe thead th {\n",
              "        text-align: right;\n",
              "    }\n",
              "</style>\n",
              "<table border=\"1\" class=\"dataframe\">\n",
              "  <thead>\n",
              "    <tr style=\"text-align: right;\">\n",
              "      <th></th>\n",
              "      <th>sdg</th>\n",
              "      <th>occurance</th>\n",
              "    </tr>\n",
              "  </thead>\n",
              "  <tbody>\n",
              "    <tr>\n",
              "      <th>0</th>\n",
              "      <td>1</td>\n",
              "      <td>1146</td>\n",
              "    </tr>\n",
              "    <tr>\n",
              "      <th>1</th>\n",
              "      <td>2</td>\n",
              "      <td>827</td>\n",
              "    </tr>\n",
              "    <tr>\n",
              "      <th>2</th>\n",
              "      <td>3</td>\n",
              "      <td>1854</td>\n",
              "    </tr>\n",
              "    <tr>\n",
              "      <th>3</th>\n",
              "      <td>4</td>\n",
              "      <td>2324</td>\n",
              "    </tr>\n",
              "    <tr>\n",
              "      <th>4</th>\n",
              "      <td>5</td>\n",
              "      <td>2286</td>\n",
              "    </tr>\n",
              "    <tr>\n",
              "      <th>5</th>\n",
              "      <td>6</td>\n",
              "      <td>1343</td>\n",
              "    </tr>\n",
              "    <tr>\n",
              "      <th>6</th>\n",
              "      <td>7</td>\n",
              "      <td>1589</td>\n",
              "    </tr>\n",
              "    <tr>\n",
              "      <th>7</th>\n",
              "      <td>8</td>\n",
              "      <td>859</td>\n",
              "    </tr>\n",
              "    <tr>\n",
              "      <th>8</th>\n",
              "      <td>9</td>\n",
              "      <td>688</td>\n",
              "    </tr>\n",
              "    <tr>\n",
              "      <th>9</th>\n",
              "      <td>10</td>\n",
              "      <td>437</td>\n",
              "    </tr>\n",
              "    <tr>\n",
              "      <th>10</th>\n",
              "      <td>11</td>\n",
              "      <td>1260</td>\n",
              "    </tr>\n",
              "    <tr>\n",
              "      <th>11</th>\n",
              "      <td>12</td>\n",
              "      <td>244</td>\n",
              "    </tr>\n",
              "    <tr>\n",
              "      <th>12</th>\n",
              "      <td>13</td>\n",
              "      <td>1129</td>\n",
              "    </tr>\n",
              "    <tr>\n",
              "      <th>13</th>\n",
              "      <td>14</td>\n",
              "      <td>705</td>\n",
              "    </tr>\n",
              "    <tr>\n",
              "      <th>14</th>\n",
              "      <td>15</td>\n",
              "      <td>542</td>\n",
              "    </tr>\n",
              "    <tr>\n",
              "      <th>15</th>\n",
              "      <td>16</td>\n",
              "      <td>0</td>\n",
              "    </tr>\n",
              "    <tr>\n",
              "      <th>16</th>\n",
              "      <td>17</td>\n",
              "      <td>0</td>\n",
              "    </tr>\n",
              "  </tbody>\n",
              "</table>\n",
              "</div>"
            ],
            "text/plain": [
              "    sdg  occurance\n",
              "0     1       1146\n",
              "1     2        827\n",
              "2     3       1854\n",
              "3     4       2324\n",
              "4     5       2286\n",
              "5     6       1343\n",
              "6     7       1589\n",
              "7     8        859\n",
              "8     9        688\n",
              "9    10        437\n",
              "10   11       1260\n",
              "11   12        244\n",
              "12   13       1129\n",
              "13   14        705\n",
              "14   15        542\n",
              "15   16          0\n",
              "16   17          0"
            ]
          },
          "metadata": {},
          "execution_count": 16
        }
      ]
    },
    {
      "cell_type": "code",
      "metadata": {
        "execution": {
          "iopub.status.busy": "2021-11-26T15:58:49.94022Z",
          "iopub.execute_input": "2021-11-26T15:58:49.940689Z",
          "iopub.status.idle": "2021-11-26T15:58:50.310196Z",
          "shell.execute_reply.started": "2021-11-26T15:58:49.940656Z",
          "shell.execute_reply": "2021-11-26T15:58:50.309149Z"
        },
        "trusted": true,
        "colab": {
          "base_uri": "https://localhost:8080/",
          "height": 373
        },
        "id": "VEKqM9cbWdpN",
        "outputId": "bc3b65a6-9b49-471d-f135-4ec9392cf567"
      },
      "source": [
        "df_count.plot(x='sdg', y='occurance', kind='bar', legend=False, grid=True, figsize=(8, 5))\n",
        "plt.title(\"Number of samples per category\")\n",
        "plt.ylabel('# of Occurrences', fontsize=12)\n",
        "plt.xlabel('category', fontsize=12)"
      ],
      "execution_count": 17,
      "outputs": [
        {
          "output_type": "execute_result",
          "data": {
            "text/plain": [
              "Text(0.5, 0, 'category')"
            ]
          },
          "metadata": {},
          "execution_count": 17
        },
        {
          "output_type": "display_data",
          "data": {
            "image/png": "[encoded data removed]",
            "text/plain": [
              "<Figure size 576x360 with 1 Axes>"
            ]
          },
          "metadata": {
            "needs_background": "light"
          }
        }
      ]
    },
    {
      "cell_type": "markdown",
      "metadata": {
        "id": "hWZR6NISZTfF"
      },
      "source": [
        "In our Training data we have majority of data from the 3rd , 4th and 5th SDG Category and least data from 10th and 12th SDG Category .The training data of SDG category 16 and 17th is Not Available so our Trained Model will not Predict those Categories"
      ]
    },
    {
      "cell_type": "markdown",
      "metadata": {
        "id": "t-irbWN9ZOfR"
      },
      "source": [
        "![all_goals.jpg](data:image/jpeg;base64,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)"
      ]
    },
    {
      "cell_type": "code",
      "metadata": {
        "execution": {
          "iopub.status.busy": "2021-11-26T15:58:50.328088Z",
          "iopub.execute_input": "2021-11-26T15:58:50.328318Z",
          "iopub.status.idle": "2021-11-26T15:58:53.479871Z",
          "shell.execute_reply.started": "2021-11-26T15:58:50.328282Z",
          "shell.execute_reply": "2021-11-26T15:58:53.479047Z"
        },
        "trusted": true,
        "colab": {
          "base_uri": "https://localhost:8080/"
        },
        "id": "tm-X8mi3WdpP",
        "outputId": "2809ef5d-7f9a-4bde-e93b-1c9c220fb81a"
      },
      "source": [
        "from sklearn.feature_extraction.text import CountVectorizer\n",
        "\n",
        "count_vect = CountVectorizer()\n",
        "X_train_counts = count_vect.fit_transform(df_osdg.text)\n",
        "print(X_train_counts.shape)"
      ],
      "execution_count": 19,
      "outputs": [
        {
          "output_type": "stream",
          "name": "stdout",
          "text": [
            "(17233, 34963)\n"
          ]
        }
      ]
    },
    {
      "cell_type": "markdown",
      "metadata": {
        "id": "8go1cgPtWdpQ"
      },
      "source": [
        "There are total 17233 documents (Data Rows) and 34963 unique words "
      ]
    },
    {
      "cell_type": "markdown",
      "metadata": {
        "id": "cX5B8_Opb_YE"
      },
      "source": [
        "Printing a sample count vectorizer Row"
      ]
    },
    {
      "cell_type": "code",
      "metadata": {
        "execution": {
          "iopub.status.busy": "2021-11-26T15:58:53.481121Z",
          "iopub.execute_input": "2021-11-26T15:58:53.481365Z",
          "iopub.status.idle": "2021-11-26T15:58:53.48893Z",
          "shell.execute_reply.started": "2021-11-26T15:58:53.481334Z",
          "shell.execute_reply": "2021-11-26T15:58:53.487761Z"
        },
        "trusted": true,
        "colab": {
          "base_uri": "https://localhost:8080/"
        },
        "id": "-RAW4XyuWdpR",
        "outputId": "64fb1041-5ab5-41ae-cbdd-e801d3250055"
      },
      "source": [
        "#print(X_train_counts[30000].todense().shape)\n",
        "print(X_train_counts[2])"
      ],
      "execution_count": 20,
      "outputs": [
        {
          "output_type": "stream",
          "name": "stdout",
          "text": [
            "  (0, 31537)\t10\n",
            "  (0, 22402)\t6\n",
            "  (0, 16033)\t2\n",
            "  (0, 2761)\t4\n",
            "  (0, 31822)\t1\n",
            "  (0, 22563)\t1\n",
            "  (0, 17193)\t1\n",
            "  (0, 22358)\t1\n",
            "  (0, 18834)\t1\n",
            "  (0, 26973)\t1\n",
            "  (0, 30004)\t1\n",
            "  (0, 20829)\t3\n",
            "  (0, 25702)\t1\n",
            "  (0, 25691)\t4\n",
            "  (0, 34101)\t3\n",
            "  (0, 2521)\t1\n",
            "  (0, 6722)\t1\n",
            "  (0, 20022)\t1\n",
            "  (0, 28250)\t1\n",
            "  (0, 21417)\t1\n",
            "  (0, 23375)\t1\n",
            "  (0, 3691)\t1\n",
            "  (0, 22083)\t1\n",
            "  (0, 27451)\t1\n",
            "  (0, 4255)\t1\n",
            "  (0, 20733)\t1\n",
            "  (0, 20067)\t1\n",
            "  (0, 18993)\t1\n",
            "  (0, 3690)\t1\n",
            "  (0, 20823)\t1\n",
            "  (0, 10267)\t1\n",
            "  (0, 32728)\t1\n",
            "  (0, 30704)\t1\n",
            "  (0, 20494)\t2\n",
            "  (0, 14829)\t2\n",
            "  (0, 10750)\t1\n",
            "  (0, 25011)\t1\n",
            "  (0, 17250)\t1\n",
            "  (0, 33321)\t1\n",
            "  (0, 2230)\t1\n",
            "  (0, 28336)\t1\n"
          ]
        }
      ]
    },
    {
      "cell_type": "markdown",
      "metadata": {
        "id": "O6QwPbBTcSO2"
      },
      "source": [
        "Converting the Count Vectorizer to TF-IDF . \n",
        "\n",
        "TF-IDF is intended to reflect how relevant a term is in a given document."
      ]
    },
    {
      "cell_type": "code",
      "metadata": {
        "execution": {
          "iopub.status.busy": "2021-11-26T15:58:53.519478Z",
          "iopub.execute_input": "2021-11-26T15:58:53.519942Z",
          "iopub.status.idle": "2021-11-26T15:58:53.632468Z",
          "shell.execute_reply.started": "2021-11-26T15:58:53.519912Z",
          "shell.execute_reply": "2021-11-26T15:58:53.631557Z"
        },
        "trusted": true,
        "colab": {
          "base_uri": "https://localhost:8080/"
        },
        "id": "LzNqIWGwWdpU",
        "outputId": "2ebf21a7-379e-4861-9309-1c16cdec9897"
      },
      "source": [
        "from sklearn.feature_extraction.text import TfidfTransformer\n",
        "\n",
        "tfidf_transformer = TfidfTransformer()\n",
        "X_train_tfidf = tfidf_transformer.fit_transform(X_train_counts)\n",
        "X_train_tfidf.shape"
      ],
      "execution_count": 25,
      "outputs": [
        {
          "output_type": "execute_result",
          "data": {
            "text/plain": [
              "(17233, 34963)"
            ]
          },
          "metadata": {},
          "execution_count": 25
        }
      ]
    },
    {
      "cell_type": "markdown",
      "metadata": {
        "id": "fUDGKRbqcp-s"
      },
      "source": [
        "Sample TF-IDF Row , each word inside a document is rep. by its TF-IDF Score \n",
        "\n",
        "(More the importance of a word in a particular Document is , More is its TF-IDF Score) "
      ]
    },
    {
      "cell_type": "code",
      "metadata": {
        "execution": {
          "iopub.status.busy": "2021-11-26T15:58:53.633625Z",
          "iopub.execute_input": "2021-11-26T15:58:53.633884Z",
          "iopub.status.idle": "2021-11-26T15:58:53.639394Z",
          "shell.execute_reply.started": "2021-11-26T15:58:53.633854Z",
          "shell.execute_reply": "2021-11-26T15:58:53.638615Z"
        },
        "trusted": true,
        "colab": {
          "base_uri": "https://localhost:8080/"
        },
        "id": "a0jN7p8kWdpV",
        "outputId": "ff96e014-a9c8-4202-91a4-21b99c524cd3"
      },
      "source": [
        "print(X_train_tfidf[2])\n"
      ],
      "execution_count": 27,
      "outputs": [
        {
          "output_type": "stream",
          "name": "stdout",
          "text": [
            "  (0, 34101)\t0.20543537480057322\n",
            "  (0, 33321)\t0.06499287143044565\n",
            "  (0, 32728)\t0.07580761581582826\n",
            "  (0, 31822)\t0.02306991903992704\n",
            "  (0, 31537)\t0.20893039157030485\n",
            "  (0, 30704)\t0.14304364974325334\n",
            "  (0, 30004)\t0.14611751851799956\n",
            "  (0, 28336)\t0.07105593625118113\n",
            "  (0, 28250)\t0.11160348833589029\n",
            "  (0, 27451)\t0.12328126836614416\n",
            "  (0, 26973)\t0.084136562089912\n",
            "  (0, 25702)\t0.12364652766766784\n",
            "  (0, 25691)\t0.286915865889028\n",
            "  (0, 25011)\t0.12537606256574377\n",
            "  (0, 23375)\t0.13589143081785282\n",
            "  (0, 22563)\t0.03672685368466842\n",
            "  (0, 22402)\t0.12941143432309057\n",
            "  (0, 22358)\t0.1774423014959518\n",
            "  (0, 22083)\t0.19161991821565805\n",
            "  (0, 21417)\t0.1036538866223436\n",
            "  (0, 20829)\t0.4600023567515462\n",
            "  (0, 20823)\t0.11286908644101921\n",
            "  (0, 20733)\t0.18017354957395704\n",
            "  (0, 20494)\t0.19237171395144043\n",
            "  (0, 20067)\t0.2057975349353643\n",
            "  (0, 20022)\t0.14973645521222256\n",
            "  (0, 18993)\t0.07483591255232679\n",
            "  (0, 18834)\t0.2057975349353643\n",
            "  (0, 17250)\t0.06768674971449692\n",
            "  (0, 17193)\t0.12154684192736977\n",
            "  (0, 16033)\t0.045683810256157385\n",
            "  (0, 14829)\t0.13141377687434838\n",
            "  (0, 10750)\t0.16914892736532636\n",
            "  (0, 10267)\t0.11410230235204265\n",
            "  (0, 6722)\t0.1833265440850326\n",
            "  (0, 4255)\t0.15256217910407546\n",
            "  (0, 3691)\t0.11276057702296194\n",
            "  (0, 3690)\t0.09799623493628913\n",
            "  (0, 2761)\t0.08597404734267255\n",
            "  (0, 2521)\t0.10883392495976274\n",
            "  (0, 2230)\t0.08882796614308944\n"
          ]
        }
      ]
    },
    {
      "cell_type": "code",
      "metadata": {
        "execution": {
          "iopub.status.busy": "2021-11-26T15:59:10.996956Z",
          "iopub.execute_input": "2021-11-26T15:59:10.997216Z",
          "iopub.status.idle": "2021-11-26T15:59:11.021858Z",
          "shell.execute_reply.started": "2021-11-26T15:59:10.997186Z",
          "shell.execute_reply": "2021-11-26T15:59:11.020952Z"
        },
        "trusted": true,
        "id": "0atBHIEoWdpZ"
      },
      "source": [
        "from sklearn.naive_bayes import MultinomialNB\n",
        "NBModel = MultinomialNB().fit(X_train_tfidf, df_osdg.sdg==5)\n",
        "    "
      ],
      "execution_count": 30,
      "outputs": []
    },
    {
      "cell_type": "markdown",
      "metadata": {
        "id": "2Oh6YxMedbJv"
      },
      "source": [
        "NBModel is  our Multiclass Naive Byes SDG classification Model prepared from the training data and its TF-IDF scores . But to run this Model each time we have to calculate a TF-IDF scores before getting output from the Model . \n",
        "\n",
        "So its Better to make a **Pipeline** , where in one go our data will get clean , we get TF-IDF Scores and can train on that .Then  To test our Model we just require to pass text  to our Model and it will predict the SDG Category it belongs to ; in a Higher to Lower Probability Order."
      ]
    },
    {
      "cell_type": "code",
      "metadata": {
        "execution": {
          "iopub.status.busy": "2021-11-26T15:59:11.023276Z",
          "iopub.execute_input": "2021-11-26T15:59:11.024678Z",
          "iopub.status.idle": "2021-11-26T15:59:11.034065Z",
          "shell.execute_reply.started": "2021-11-26T15:59:11.024626Z",
          "shell.execute_reply": "2021-11-26T15:59:11.033236Z"
        },
        "trusted": true,
        "id": "1P7q5wELWdpa"
      },
      "source": [
        "from sklearn.pipeline import make_pipeline\n",
        "\n",
        "model = make_pipeline(TfidfTransformer(),MultinomialNB())"
      ],
      "execution_count": 31,
      "outputs": []
    },
    {
      "cell_type": "markdown",
      "metadata": {
        "id": "fdn7d6sPfRmA"
      },
      "source": [
        "A Sample CSR report to see how our model Predicts"
      ]
    },
    {
      "cell_type": "code",
      "metadata": {
        "execution": {
          "iopub.status.busy": "2021-11-26T15:59:11.143403Z",
          "iopub.execute_input": "2021-11-26T15:59:11.143744Z",
          "iopub.status.idle": "2021-11-26T15:59:11.158513Z",
          "shell.execute_reply.started": "2021-11-26T15:59:11.1437Z",
          "shell.execute_reply": "2021-11-26T15:59:11.157565Z"
        },
        "trusted": true,
        "id": "GM9n0S-lWdpc"
      },
      "source": [
        "testing= [\"\"\"34-15_CSR.txt\n",
        "Program \n",
        "wise\n",
        "Amount Spent on the \n",
        "\n",
        "Cumulative \n",
        "Expenditure \n",
        "upto the \n",
        "reporting \n",
        "period\n",
        "Amount \n",
        "spent: Direct \n",
        "or through \n",
        "implementing \n",
        "agency**\n",
        "1. Direct \n",
        "Expenditure\n",
        "2. Overheads*\n",
        "Promoting education \n",
        "by providing \n",
        "educational materials, \n",
        "setting up of \n",
        "\n",
        "libraries, toy libraries,  \n",
        "scholarships, coaching \n",
        "classes, computer \n",
        "\n",
        "hardware and software \n",
        "for smart classes, \n",
        "building infrastructure \n",
        "\n",
        "at schools, organising \n",
        "workshops for \n",
        "enhancing skills, etc.\n",
        "Education\n",
        "Tamil Nadu \n",
        "\n",
        "(Cuddalore, Tiruvallur \n",
        "District) Maharashtra \n",
        "(Khandala, Satara \n",
        "\n",
        "District, Bhandup, \n",
        "Mumbai District) \n",
        "Gujarat (Ankleshwar, \n",
        "\n",
        "Bharuch District), \n",
        "Uttar Pradesh (Kasna, \n",
        "Gautam Buddha \n",
        "\n",
        "Nagar  District), \n",
        "Haryana (Rohtak \n",
        "District)\n",
        "5.53\n",
        "4.14\n",
        "0.20\n",
        "4.34\n",
        "Direct and \n",
        "\n",
        "through \n",
        "implementing \n",
        "agency\n",
        "Promoting healthcare \n",
        "\n",
        "and sanitation by \n",
        "\n",
        "conducting projects \n",
        "and programs, making \n",
        "available safe drinking \n",
        "\n",
        "water to community, \n",
        "preventive healthcare \n",
        "and medical camps, \n",
        "\n",
        "infrastructure \n",
        "support for cancer \n",
        "diagnosis, calibration \n",
        "\n",
        "of healthcare \n",
        "equipment at hospitals, \n",
        "construction of sanitary \n",
        "\n",
        "\n",
        "Sector in \n",
        "\n",
        "which the \n",
        "\n",
        "\n",
        "\n",
        "covered\n",
        "Location where \n",
        "\n",
        "\n",
        "\n",
        "\n",
        "\n",
        "\n",
        "to unemployed  \n",
        "youth and painting \n",
        "\n",
        "applicators/contractors\n",
        "Vocational \n",
        "\n",
        "\n",
        "\n",
        "(Bhubaneshwar \n",
        "\n",
        "District), Uttaranchal \n",
        "\n",
        "(Dehradun District) \n",
        "\n",
        "Chandigarh and \n",
        "\n",
        "\n",
        "\n",
        "sustainability through \n",
        "water recharge & \n",
        "conservation projects, \n",
        "\n",
        "rain water harvesting, \n",
        "water - desilting \n",
        "and reclamation in \n",
        "\n",
        "villages, Integrated \n",
        "Water Resources \n",
        "Management in \n",
        "\n",
        "Community Watershed\n",
        "Water\n",
        "Tamil Nadu \n",
        "\n",
        "/NGOs to execute the said projects and programs \n",
        "and incur expenditure in accordance with Section 135 of \n",
        "the Companies Act, 2013 and the Companies (Corporate \n",
        "Social Responsibility Policy) Rules, 2014.\n",
        "7.\n",
        " \n",
        "The CSR Committee confirms that the implementation and \n",
        "monitoring of the CSR Policy is in compliance with the CSR \n",
        "objectives and Policy of your Company.\n",
        "K.B.S. Anand\n",
        "\n",
        "Managing Director & CEO\n",
        "Mahendra Choksi\n",
        "\n",
        "Chairman\n",
        "CSR Committee\n",
        "Place: Mumbai \n",
        "Date: 18\n",
        "th\n",
        " May, 2015\n",
        "6.\n",
        " \n",
        "Your Company is committed to focus on inclusive growth and \n",
        "\n",
        "improve lives by contributing towards communities around \n",
        "which it operates. This dedicated commitment towards \n",
        "inclusive growth is manifested through the Company™s CSR \n",
        "\n",
        "initiatives undertaken around the manufacturing facilities \n",
        "as well as across many cities in India during the financial \n",
        "year 2014-15. The overall CSR Expenditure has increased \n",
        "\n",
        "from \n",
        "`\n",
        "\"\"\"]"
      ],
      "execution_count": 33,
      "outputs": []
    },
    {
      "cell_type": "markdown",
      "metadata": {
        "id": "Yct8AqWmfLz_"
      },
      "source": [
        "Training our Pipelined Model"
      ]
    },
    {
      "cell_type": "code",
      "metadata": {
        "execution": {
          "iopub.status.busy": "2021-11-26T15:59:11.232549Z",
          "iopub.execute_input": "2021-11-26T15:59:11.232897Z",
          "iopub.status.idle": "2021-11-26T15:59:12.037105Z",
          "shell.execute_reply.started": "2021-11-26T15:59:11.232835Z",
          "shell.execute_reply": "2021-11-26T15:59:12.036236Z"
        },
        "trusted": true,
        "id": "TyQh8U6JWdpj"
      },
      "source": [
        "import nltk\n",
        "\n",
        "from sklearn.pipeline import Pipeline\n",
        "from sklearn.feature_extraction.text import TfidfVectorizer\n",
        "import re\n",
        "import matplotlib\n",
        "import numpy as np\n",
        "import matplotlib.pyplot as plt\n",
        "import pandas as pd\n",
        "from sklearn.model_selection import train_test_split\n",
        "from sklearn.feature_extraction.text import TfidfVectorizer\n",
        "from sklearn.naive_bayes import MultinomialNB\n",
        "from sklearn.metrics import accuracy_score\n",
        "from sklearn.multiclass import OneVsRestClassifier\n",
        "from nltk.corpus import stopwords\n",
        "#stop_words = set(stopwords.words('english'))\n",
        "from sklearn.svm import LinearSVC\n",
        "from sklearn.linear_model import LogisticRegression\n",
        "from sklearn.pipeline import Pipeline\n",
        "import seaborn as sns"
      ],
      "execution_count": 50,
      "outputs": []
    },
    {
      "cell_type": "markdown",
      "metadata": {
        "id": "faSm9B95iqu3"
      },
      "source": [
        "Spliting our data into test and train. Keeping 1/3rd of data as test data and remaning 2/3rd of Data as training Data"
      ]
    },
    {
      "cell_type": "code",
      "metadata": {
        "id": "u5RPJBxCiltt"
      },
      "source": [
        "train, test = train_test_split(df_osdg, random_state=42, test_size=0.33, shuffle=True)"
      ],
      "execution_count": null,
      "outputs": []
    },
    {
      "cell_type": "code",
      "metadata": {
        "id": "JSePo9W6inRo"
      },
      "source": [
        "\n",
        "NB_pipeline = Pipeline([\n",
        "                ('tfidf', TfidfVectorizer()),\n",
        "                ('clf', OneVsRestClassifier(MultinomialNB(\n",
        "                    fit_prior=True, class_prior=None))),\n",
        "            ])"
      ],
      "execution_count": null,
      "outputs": []
    },
    {
      "cell_type": "code",
      "metadata": {
        "execution": {
          "iopub.status.busy": "2021-11-26T15:59:12.056798Z",
          "iopub.execute_input": "2021-11-26T15:59:12.057546Z",
          "iopub.status.idle": "2021-11-26T15:59:58.712657Z",
          "shell.execute_reply.started": "2021-11-26T15:59:12.057478Z",
          "shell.execute_reply": "2021-11-26T15:59:58.71169Z"
        },
        "trusted": true,
        "colab": {
          "base_uri": "https://localhost:8080/"
        },
        "id": "Hbk9GX53Wdpm",
        "outputId": "66284c34-11a9-401d-a959-7d6e96837e34"
      },
      "source": [
        "for i in range (1,16):\n",
        "    \n",
        "    print(\"Category Goal \",i)\n",
        "    NB_pipeline.fit(train.text, train.sdg==i)\n",
        "    NB_predicted2 = NB_pipeline.predict(train.text)\n",
        "    print('Train accuracy is {}'.format(accuracy_score(train.sdg==i,NB_predicted2)))\n",
        "    NB_predicted2 = NB_pipeline.predict(test.text)\n",
        "    print('Test accuracy is {}'.format(accuracy_score(test.sdg==i,NB_predicted2)))"
      ],
      "execution_count": 57,
      "outputs": [
        {
          "output_type": "stream",
          "name": "stdout",
          "text": [
            "Category Goal  1\n",
            "Train accuracy is 0.931837865927594\n",
            "Test accuracy is 0.9356426938631968\n",
            "Category Goal  2\n",
            "Train accuracy is 0.9524510653040014\n",
            "Test accuracy is 0.9502373835062423\n",
            "Category Goal  3\n",
            "Train accuracy is 0.898406374501992\n",
            "Test accuracy is 0.8948478987163707\n",
            "Category Goal  4\n",
            "Train accuracy is 0.8865407933483458\n",
            "Test accuracy is 0.8802532090733252\n",
            "Category Goal  5\n",
            "Train accuracy is 0.8775333448813442\n",
            "Test accuracy is 0.8712853877263935\n",
            "Category Goal  6\n",
            "Train accuracy is 0.9221375368092846\n",
            "Test accuracy is 0.9249164761737295\n",
            "Category Goal  7\n",
            "Train accuracy is 0.9091460245972631\n",
            "Test accuracy is 0.9080358712853878\n",
            "Category Goal  8\n",
            "Train accuracy is 0.948380391477568\n",
            "Test accuracy is 0.9526991383857921\n",
            "Category Goal  9\n",
            "Train accuracy is 0.9604191927940412\n",
            "Test accuracy is 0.9586776859504132\n",
            "Category Goal  10\n",
            "Train accuracy is 0.974016975575957\n",
            "Test accuracy is 0.9757341304730086\n",
            "Category Goal  11\n",
            "Train accuracy is 0.9275073618569202\n",
            "Test accuracy is 0.9250923158079831\n",
            "Category Goal  12\n",
            "Train accuracy is 0.9862289970552572\n",
            "Test accuracy is 0.9848777914541937\n",
            "Category Goal  13\n",
            "Train accuracy is 0.9321843062532479\n",
            "Test accuracy is 0.9389836469140144\n",
            "Category Goal  14\n",
            "Train accuracy is 0.9602459726312143\n",
            "Test accuracy is 0.9569192896078776\n",
            "Category Goal  15\n",
            "Train accuracy is 0.9697730815866967\n",
            "Test accuracy is 0.9658871109548092\n"
          ]
        }
      ]
    },
    {
      "cell_type": "code",
      "metadata": {
        "colab": {
          "base_uri": "https://localhost:8080/"
        },
        "id": "Ydb7bNSilEAO",
        "outputId": "d478980f-eba1-4544-868a-49311c6d1422"
      },
      "source": [
        "NB_pipeline.fit(train.text, train.sdg)"
      ],
      "execution_count": 76,
      "outputs": [
        {
          "output_type": "execute_result",
          "data": {
            "text/plain": [
              "Pipeline(steps=[('tfidf', TfidfVectorizer()),\n",
              "                ('clf', OneVsRestClassifier(estimator=MultinomialNB()))])"
            ]
          },
          "metadata": {},
          "execution_count": 76
        }
      ]
    },
    {
      "cell_type": "markdown",
      "metadata": {
        "id": "8-os2yiihJib"
      },
      "source": [
        "Dumping our trained Model in Pickle Format ,  we can download it and can deploy our Naive Bayes SDG Multiclass Label Model. "
      ]
    },
    {
      "cell_type": "code",
      "metadata": {
        "execution": {
          "iopub.status.busy": "2021-11-26T15:59:12.038378Z",
          "iopub.execute_input": "2021-11-26T15:59:12.038625Z",
          "iopub.status.idle": "2021-11-26T15:59:12.055673Z",
          "shell.execute_reply.started": "2021-11-26T15:59:12.038598Z",
          "shell.execute_reply": "2021-11-26T15:59:12.054858Z"
        },
        "trusted": true,
        "id": "crPSnm_UWdpl"
      },
      "source": [
        "import pickle\n",
        "model_file = \"model.pickle\"\n",
        "with open(model_file,'wb') as f:\n",
        "    pickle.dump(NB_pipeline, f)"
      ],
      "execution_count": 77,
      "outputs": []
    },
    {
      "cell_type": "code",
      "metadata": {
        "execution": {
          "iopub.status.busy": "2021-11-26T16:00:01.379971Z",
          "iopub.execute_input": "2021-11-26T16:00:01.380172Z",
          "iopub.status.idle": "2021-11-26T16:00:01.388521Z",
          "shell.execute_reply.started": "2021-11-26T16:00:01.380147Z",
          "shell.execute_reply": "2021-11-26T16:00:01.387717Z"
        },
        "trusted": true,
        "id": "TaOUvruVWdpq"
      },
      "source": [
        "np.set_printoptions(formatter={'float_kind':'{:f}'.format})\n"
      ],
      "execution_count": 102,
      "outputs": []
    },
    {
      "cell_type": "markdown",
      "metadata": {
        "id": "07HvQrmXndve"
      },
      "source": [
        "Using Sample report to see how our model predicts various categories of various SDG."
      ]
    },
    {
      "cell_type": "code",
      "metadata": {
        "execution": {
          "iopub.status.busy": "2021-11-26T16:00:02.886585Z",
          "iopub.execute_input": "2021-11-26T16:00:02.886924Z",
          "iopub.status.idle": "2021-11-26T16:00:02.905033Z",
          "shell.execute_reply.started": "2021-11-26T16:00:02.886885Z",
          "shell.execute_reply": "2021-11-26T16:00:02.904352Z"
        },
        "trusted": true,
        "id": "WR83SIFXWdpu"
      },
      "source": [
        "test_cls = NB_pipeline.predict_proba(testing)\n",
        "result = test_cls.tolist()\n",
        "test_res = result[0]"
      ],
      "execution_count": 107,
      "outputs": []
    },
    {
      "cell_type": "code",
      "metadata": {
        "execution": {
          "iopub.status.busy": "2021-11-26T16:00:02.922125Z",
          "iopub.execute_input": "2021-11-26T16:00:02.922591Z",
          "iopub.status.idle": "2021-11-26T16:00:02.931254Z",
          "shell.execute_reply.started": "2021-11-26T16:00:02.92255Z",
          "shell.execute_reply": "2021-11-26T16:00:02.930532Z"
        },
        "trusted": true,
        "id": "iFdtnRQdWdpv"
      },
      "source": [
        "li_goals = [\"No Poverty\",\"Zero Hunger\",\"Good Healthand Well Being\",\"Quality Education\"\n",
        "            ,\"Gender Equality\",\"Clean Water and Sanitation\",\"Affordable  and Clean Energy\"\n",
        "            ,\"Decent Work and Economic Growth\",\"Industry,Innovation and Infrastructure\" \n",
        "            ,\"Reduced Inequalites\",\"Sustainable Cities and Communities\",\n",
        "            \"Responsible Consumption and Production\",\"Climate Action\",\"Life Below Water\",\"Life On Land\"]"
      ],
      "execution_count": 108,
      "outputs": []
    },
    {
      "cell_type": "code",
      "metadata": {
        "execution": {
          "iopub.status.busy": "2021-11-26T16:00:02.932606Z",
          "iopub.execute_input": "2021-11-26T16:00:02.933012Z",
          "iopub.status.idle": "2021-11-26T16:00:02.940865Z",
          "shell.execute_reply.started": "2021-11-26T16:00:02.932968Z",
          "shell.execute_reply": "2021-11-26T16:00:02.940325Z"
        },
        "trusted": true,
        "id": "QlZ2HbvwWdpv"
      },
      "source": [
        "t =zip(li_goals,test_res)\n",
        "t =list(t)\n",
        "df_predic = pd.DataFrame(t,columns=[\"OSDG\",\"Score\"])\n",
        "df_predic.index = df_predic.index + 1"
      ],
      "execution_count": 109,
      "outputs": []
    },
    {
      "cell_type": "code",
      "metadata": {
        "execution": {
          "iopub.status.busy": "2021-11-26T16:00:02.967855Z",
          "iopub.execute_input": "2021-11-26T16:00:02.9683Z",
          "iopub.status.idle": "2021-11-26T16:00:02.982463Z",
          "shell.execute_reply.started": "2021-11-26T16:00:02.968254Z",
          "shell.execute_reply": "2021-11-26T16:00:02.981667Z"
        },
        "trusted": true,
        "colab": {
          "base_uri": "https://localhost:8080/",
          "height": 520
        },
        "id": "0fzz5E_KWdpw",
        "outputId": "5ee58ac2-2583-4543-e2c3-1f3792d95ff0"
      },
      "source": [
        "df_predic.sort_values(\"Score\", ascending = [False])"
      ],
      "execution_count": 110,
      "outputs": [
        {
          "output_type": "execute_result",
          "data": {
            "text/html": [
              "<div>\n",
              "<style scoped>\n",
              "    .dataframe tbody tr th:only-of-type {\n",
              "        vertical-align: middle;\n",
              "    }\n",
              "\n",
              "    .dataframe tbody tr th {\n",
              "        vertical-align: top;\n",
              "    }\n",
              "\n",
              "    .dataframe thead th {\n",
              "        text-align: right;\n",
              "    }\n",
              "</style>\n",
              "<table border=\"1\" class=\"dataframe\">\n",
              "  <thead>\n",
              "    <tr style=\"text-align: right;\">\n",
              "      <th></th>\n",
              "      <th>OSDG</th>\n",
              "      <th>Score</th>\n",
              "    </tr>\n",
              "  </thead>\n",
              "  <tbody>\n",
              "    <tr>\n",
              "      <th>4</th>\n",
              "      <td>Quality Education</td>\n",
              "      <td>0.446350</td>\n",
              "    </tr>\n",
              "    <tr>\n",
              "      <th>6</th>\n",
              "      <td>Clean Water and Sanitation</td>\n",
              "      <td>0.182261</td>\n",
              "    </tr>\n",
              "    <tr>\n",
              "      <th>5</th>\n",
              "      <td>Gender Equality</td>\n",
              "      <td>0.108815</td>\n",
              "    </tr>\n",
              "    <tr>\n",
              "      <th>3</th>\n",
              "      <td>Good Healthand Well Being</td>\n",
              "      <td>0.092092</td>\n",
              "    </tr>\n",
              "    <tr>\n",
              "      <th>7</th>\n",
              "      <td>Affordable  and Clean Energy</td>\n",
              "      <td>0.062278</td>\n",
              "    </tr>\n",
              "    <tr>\n",
              "      <th>11</th>\n",
              "      <td>Sustainable Cities and Communities</td>\n",
              "      <td>0.055425</td>\n",
              "    </tr>\n",
              "    <tr>\n",
              "      <th>13</th>\n",
              "      <td>Climate Action</td>\n",
              "      <td>0.024137</td>\n",
              "    </tr>\n",
              "    <tr>\n",
              "      <th>8</th>\n",
              "      <td>Decent Work and Economic Growth</td>\n",
              "      <td>0.009360</td>\n",
              "    </tr>\n",
              "    <tr>\n",
              "      <th>1</th>\n",
              "      <td>No Poverty</td>\n",
              "      <td>0.006102</td>\n",
              "    </tr>\n",
              "    <tr>\n",
              "      <th>9</th>\n",
              "      <td>Industry,Innovation and Infrastructure</td>\n",
              "      <td>0.004823</td>\n",
              "    </tr>\n",
              "    <tr>\n",
              "      <th>2</th>\n",
              "      <td>Zero Hunger</td>\n",
              "      <td>0.004315</td>\n",
              "    </tr>\n",
              "    <tr>\n",
              "      <th>14</th>\n",
              "      <td>Life Below Water</td>\n",
              "      <td>0.002254</td>\n",
              "    </tr>\n",
              "    <tr>\n",
              "      <th>15</th>\n",
              "      <td>Life On Land</td>\n",
              "      <td>0.001125</td>\n",
              "    </tr>\n",
              "    <tr>\n",
              "      <th>10</th>\n",
              "      <td>Reduced Inequalites</td>\n",
              "      <td>0.000521</td>\n",
              "    </tr>\n",
              "    <tr>\n",
              "      <th>12</th>\n",
              "      <td>Responsible Consumption and Production</td>\n",
              "      <td>0.000141</td>\n",
              "    </tr>\n",
              "  </tbody>\n",
              "</table>\n",
              "</div>"
            ],
            "text/plain": [
              "                                      OSDG     Score\n",
              "4                        Quality Education  0.446350\n",
              "6               Clean Water and Sanitation  0.182261\n",
              "5                          Gender Equality  0.108815\n",
              "3                Good Healthand Well Being  0.092092\n",
              "7             Affordable  and Clean Energy  0.062278\n",
              "11      Sustainable Cities and Communities  0.055425\n",
              "13                          Climate Action  0.024137\n",
              "8          Decent Work and Economic Growth  0.009360\n",
              "1                               No Poverty  0.006102\n",
              "9   Industry,Innovation and Infrastructure  0.004823\n",
              "2                              Zero Hunger  0.004315\n",
              "14                        Life Below Water  0.002254\n",
              "15                            Life On Land  0.001125\n",
              "10                     Reduced Inequalites  0.000521\n",
              "12  Responsible Consumption and Production  0.000141"
            ]
          },
          "metadata": {},
          "execution_count": 110
        }
      ]
    },
    {
      "cell_type": "markdown",
      "metadata": {
        "id": "_r-KcRmyleFQ"
      },
      "source": [
        "Overall Accuracy of our Naive Bayes Model "
      ]
    },
    {
      "cell_type": "code",
      "metadata": {
        "execution": {
          "iopub.status.busy": "2021-11-26T16:07:56.866248Z",
          "iopub.execute_input": "2021-11-26T16:07:56.867068Z",
          "iopub.status.idle": "2021-11-26T16:08:00.952387Z",
          "shell.execute_reply.started": "2021-11-26T16:07:56.867015Z",
          "shell.execute_reply": "2021-11-26T16:08:00.951438Z"
        },
        "trusted": true,
        "id": "fORegsXWWdpn"
      },
      "source": [
        "\n",
        "NB_predicted3 = NB_pipeline.predict_proba(test.text)\n",
        "clss =NB_pipeline.predict(train.text)\n",
        "clss2 =NB_pipeline.predict(test.text)"
      ],
      "execution_count": 78,
      "outputs": []
    },
    {
      "cell_type": "markdown",
      "metadata": {
        "id": "1w9IlJgSm6Tx"
      },
      "source": [
        "Trained data Accuracy (out of 1)"
      ]
    },
    {
      "cell_type": "code",
      "metadata": {
        "execution": {
          "iopub.status.busy": "2021-11-26T16:08:00.954023Z",
          "iopub.execute_input": "2021-11-26T16:08:00.954318Z",
          "iopub.status.idle": "2021-11-26T16:08:00.96171Z",
          "shell.execute_reply.started": "2021-11-26T16:08:00.954277Z",
          "shell.execute_reply": "2021-11-26T16:08:00.960864Z"
        },
        "trusted": true,
        "colab": {
          "base_uri": "https://localhost:8080/"
        },
        "id": "NVeIml8IWdpo",
        "outputId": "155319a7-d77e-471c-c0d0-b6a081a45d7b"
      },
      "source": [
        "accuracy_score(train.sdg,clss)"
      ],
      "execution_count": 80,
      "outputs": [
        {
          "output_type": "execute_result",
          "data": {
            "text/plain": [
              "0.7356660315260697"
            ]
          },
          "metadata": {},
          "execution_count": 80
        }
      ]
    },
    {
      "cell_type": "markdown",
      "metadata": {
        "id": "BDSn4dLPm_Wr"
      },
      "source": [
        "Test Data Accuracy Score"
      ]
    },
    {
      "cell_type": "code",
      "metadata": {
        "execution": {
          "iopub.status.busy": "2021-11-26T16:08:00.962949Z",
          "iopub.execute_input": "2021-11-26T16:08:00.963436Z",
          "iopub.status.idle": "2021-11-26T16:08:00.973588Z",
          "shell.execute_reply.started": "2021-11-26T16:08:00.963391Z",
          "shell.execute_reply": "2021-11-26T16:08:00.972723Z"
        },
        "trusted": true,
        "colab": {
          "base_uri": "https://localhost:8080/"
        },
        "id": "V1iOQmX6Wdpp",
        "outputId": "b33c8c29-39c4-469d-8c95-5e2640f2c436"
      },
      "source": [
        "\n",
        "accuracy_score(test.sdg,clss2)"
      ],
      "execution_count": 81,
      "outputs": [
        {
          "output_type": "execute_result",
          "data": {
            "text/plain": [
              "0.6643221382099526"
            ]
          },
          "metadata": {},
          "execution_count": 81
        }
      ]
    },
    {
      "cell_type": "markdown",
      "metadata": {
        "id": "qbKNuy-Nmupw"
      },
      "source": [
        "**The Accuracy scores Obtained from our Naive Bayes Model is not so good , so we have to train a new Model with Higher Accuracy Score**"
      ]
    },
    {
      "cell_type": "markdown",
      "metadata": {
        "id": "oSyoeRnKpIDW"
      },
      "source": [
        "Training SGD Model (stochastic gradient descent)"
      ]
    },
    {
      "cell_type": "code",
      "metadata": {
        "execution": {
          "iopub.status.busy": "2021-11-26T16:34:10.846204Z",
          "iopub.execute_input": "2021-11-26T16:34:10.846937Z",
          "iopub.status.idle": "2021-11-26T16:34:19.010659Z",
          "shell.execute_reply.started": "2021-11-26T16:34:10.846897Z",
          "shell.execute_reply": "2021-11-26T16:34:19.00989Z"
        },
        "trusted": true,
        "id": "rEZdmYsMWdpy"
      },
      "source": [
        "from sklearn.linear_model import SGDClassifier\n",
        "\n",
        "sgd = Pipeline([('vect', CountVectorizer()),\n",
        "                ('tfidf', TfidfTransformer()),\n",
        "                ('clf', SGDClassifier(loss='log', penalty='l2',alpha=0.07e-3, random_state=42, max_iter=20, tol=None)),\n",
        "               ])\n",
        "sgd.fit(train.text, train.sdg)\n",
        "sgd_m = sgd.fit(train.text, train.sdg)"
      ],
      "execution_count": 113,
      "outputs": []
    },
    {
      "cell_type": "code",
      "metadata": {
        "execution": {
          "iopub.status.busy": "2021-11-26T16:34:19.011961Z",
          "iopub.execute_input": "2021-11-26T16:34:19.012652Z",
          "iopub.status.idle": "2021-11-26T16:34:21.009352Z",
          "shell.execute_reply.started": "2021-11-26T16:34:19.012614Z",
          "shell.execute_reply": "2021-11-26T16:34:21.00854Z"
        },
        "trusted": true,
        "id": "wvwXeC3-Wdpy"
      },
      "source": [
        "spred1=  sgd.predict(train.text)\n",
        "spred2 =sgd.predict(test.text)"
      ],
      "execution_count": 114,
      "outputs": []
    },
    {
      "cell_type": "code",
      "metadata": {
        "execution": {
          "iopub.status.busy": "2021-11-26T16:34:21.010892Z",
          "iopub.execute_input": "2021-11-26T16:34:21.011192Z",
          "iopub.status.idle": "2021-11-26T16:34:21.019579Z",
          "shell.execute_reply.started": "2021-11-26T16:34:21.011154Z",
          "shell.execute_reply": "2021-11-26T16:34:21.018667Z"
        },
        "trusted": true,
        "colab": {
          "base_uri": "https://localhost:8080/"
        },
        "id": "e0QGfu2JWdpz",
        "outputId": "c058adec-1ec3-434d-d118-5770aa75ad9e"
      },
      "source": [
        "accuracy_score(train.sdg,spred1)"
      ],
      "execution_count": 115,
      "outputs": [
        {
          "output_type": "execute_result",
          "data": {
            "text/plain": [
              "0.9406720942317686"
            ]
          },
          "metadata": {},
          "execution_count": 115
        }
      ]
    },
    {
      "cell_type": "code",
      "metadata": {
        "execution": {
          "iopub.status.busy": "2021-11-26T16:34:21.023651Z",
          "iopub.execute_input": "2021-11-26T16:34:21.024114Z",
          "iopub.status.idle": "2021-11-26T16:34:21.03118Z",
          "shell.execute_reply.started": "2021-11-26T16:34:21.024081Z",
          "shell.execute_reply": "2021-11-26T16:34:21.03035Z"
        },
        "trusted": true,
        "colab": {
          "base_uri": "https://localhost:8080/"
        },
        "id": "KWys8c3dWdpz",
        "outputId": "a78169ea-b962-451a-abfd-4c97443a87e4"
      },
      "source": [
        "accuracy_score(test.sdg,spred2)"
      ],
      "execution_count": 116,
      "outputs": [
        {
          "output_type": "execute_result",
          "data": {
            "text/plain": [
              "0.8702303499208721"
            ]
          },
          "metadata": {},
          "execution_count": 116
        }
      ]
    },
    {
      "cell_type": "markdown",
      "metadata": {
        "id": "ADnIiO7ZoqvY"
      },
      "source": [
        "**Training Data Accuracy is around 94% and Test Data Accuracy is Around 87% ,which is pretty Good**"
      ]
    },
    {
      "cell_type": "markdown",
      "metadata": {
        "id": "SFrxo6jhoaPG"
      },
      "source": [
        "Dumping our Model in Pickle Format ; we can downlaod it and can run over any text data to get the SDG Category scores"
      ]
    },
    {
      "cell_type": "code",
      "metadata": {
        "execution": {
          "iopub.status.busy": "2021-11-26T16:34:36.407528Z",
          "iopub.execute_input": "2021-11-26T16:34:36.40796Z",
          "iopub.status.idle": "2021-11-26T16:34:36.427916Z",
          "shell.execute_reply.started": "2021-11-26T16:34:36.407929Z",
          "shell.execute_reply": "2021-11-26T16:34:36.42707Z"
        },
        "trusted": true,
        "id": "JxfKKfVUWdp0"
      },
      "source": [
        "model_file2 = \"sgdmodel_.pkl\"\n",
        "with open(model_file2,'wb') as f:\n",
        "    pickle.dump(sgd, f)"
      ],
      "execution_count": 117,
      "outputs": []
    },
    {
      "cell_type": "code",
      "metadata": {
        "id": "U0_fHAgLWdp1"
      },
      "source": [
        "test_cls = sgd_m.predict_proba(testing)\n",
        "result = test_cls.tolist()\n",
        "test_res = result[0]\n",
        "t =zip(li_goals,test_res)\n",
        "t =list(t)\n",
        "df_predic = pd.DataFrame(t,columns=[\"OSDG\",\"Score\"])\n",
        "df_predic.index = df_predic.index + 1"
      ],
      "execution_count": 118,
      "outputs": []
    },
    {
      "cell_type": "code",
      "metadata": {
        "colab": {
          "base_uri": "https://localhost:8080/",
          "height": 520
        },
        "id": "EK2z-1xQoUpJ",
        "outputId": "f0951a98-e8e9-4bb2-e3ca-5c6ce0775740"
      },
      "source": [
        "df_predic.sort_values(\"Score\", ascending = [False])"
      ],
      "execution_count": 119,
      "outputs": [
        {
          "output_type": "execute_result",
          "data": {
            "text/html": [
              "<div>\n",
              "<style scoped>\n",
              "    .dataframe tbody tr th:only-of-type {\n",
              "        vertical-align: middle;\n",
              "    }\n",
              "\n",
              "    .dataframe tbody tr th {\n",
              "        vertical-align: top;\n",
              "    }\n",
              "\n",
              "    .dataframe thead th {\n",
              "        text-align: right;\n",
              "    }\n",
              "</style>\n",
              "<table border=\"1\" class=\"dataframe\">\n",
              "  <thead>\n",
              "    <tr style=\"text-align: right;\">\n",
              "      <th></th>\n",
              "      <th>OSDG</th>\n",
              "      <th>Score</th>\n",
              "    </tr>\n",
              "  </thead>\n",
              "  <tbody>\n",
              "    <tr>\n",
              "      <th>6</th>\n",
              "      <td>Clean Water and Sanitation</td>\n",
              "      <td>0.578887</td>\n",
              "    </tr>\n",
              "    <tr>\n",
              "      <th>4</th>\n",
              "      <td>Quality Education</td>\n",
              "      <td>0.077970</td>\n",
              "    </tr>\n",
              "    <tr>\n",
              "      <th>11</th>\n",
              "      <td>Sustainable Cities and Communities</td>\n",
              "      <td>0.057410</td>\n",
              "    </tr>\n",
              "    <tr>\n",
              "      <th>8</th>\n",
              "      <td>Decent Work and Economic Growth</td>\n",
              "      <td>0.047016</td>\n",
              "    </tr>\n",
              "    <tr>\n",
              "      <th>9</th>\n",
              "      <td>Industry,Innovation and Infrastructure</td>\n",
              "      <td>0.043995</td>\n",
              "    </tr>\n",
              "    <tr>\n",
              "      <th>3</th>\n",
              "      <td>Good Healthand Well Being</td>\n",
              "      <td>0.028837</td>\n",
              "    </tr>\n",
              "    <tr>\n",
              "      <th>13</th>\n",
              "      <td>Climate Action</td>\n",
              "      <td>0.026088</td>\n",
              "    </tr>\n",
              "    <tr>\n",
              "      <th>7</th>\n",
              "      <td>Affordable  and Clean Energy</td>\n",
              "      <td>0.024546</td>\n",
              "    </tr>\n",
              "    <tr>\n",
              "      <th>5</th>\n",
              "      <td>Gender Equality</td>\n",
              "      <td>0.022475</td>\n",
              "    </tr>\n",
              "    <tr>\n",
              "      <th>14</th>\n",
              "      <td>Life Below Water</td>\n",
              "      <td>0.021962</td>\n",
              "    </tr>\n",
              "    <tr>\n",
              "      <th>2</th>\n",
              "      <td>Zero Hunger</td>\n",
              "      <td>0.018542</td>\n",
              "    </tr>\n",
              "    <tr>\n",
              "      <th>15</th>\n",
              "      <td>Life On Land</td>\n",
              "      <td>0.015515</td>\n",
              "    </tr>\n",
              "    <tr>\n",
              "      <th>12</th>\n",
              "      <td>Responsible Consumption and Production</td>\n",
              "      <td>0.012983</td>\n",
              "    </tr>\n",
              "    <tr>\n",
              "      <th>10</th>\n",
              "      <td>Reduced Inequalites</td>\n",
              "      <td>0.012351</td>\n",
              "    </tr>\n",
              "    <tr>\n",
              "      <th>1</th>\n",
              "      <td>No Poverty</td>\n",
              "      <td>0.011424</td>\n",
              "    </tr>\n",
              "  </tbody>\n",
              "</table>\n",
              "</div>"
            ],
            "text/plain": [
              "                                      OSDG     Score\n",
              "6               Clean Water and Sanitation  0.578887\n",
              "4                        Quality Education  0.077970\n",
              "11      Sustainable Cities and Communities  0.057410\n",
              "8          Decent Work and Economic Growth  0.047016\n",
              "9   Industry,Innovation and Infrastructure  0.043995\n",
              "3                Good Healthand Well Being  0.028837\n",
              "13                          Climate Action  0.026088\n",
              "7             Affordable  and Clean Energy  0.024546\n",
              "5                          Gender Equality  0.022475\n",
              "14                        Life Below Water  0.021962\n",
              "2                              Zero Hunger  0.018542\n",
              "15                            Life On Land  0.015515\n",
              "12  Responsible Consumption and Production  0.012983\n",
              "10                     Reduced Inequalites  0.012351\n",
              "1                               No Poverty  0.011424"
            ]
          },
          "metadata": {},
          "execution_count": 119
        }
      ]
    },
    {
      "cell_type": "markdown",
      "metadata": {
        "id": "FaJTa3DMpj9e"
      },
      "source": [
        "**Since the SGD model is giving better Accuracy over Naive Bayes Model .Thus we can use this as our Final model for UNO-SDG (United Nations Organisation -Sustainable Development Goals) Classification**"
      ]
    }
  ]
}